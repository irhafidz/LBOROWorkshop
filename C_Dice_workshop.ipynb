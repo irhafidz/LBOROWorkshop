{
 "cells": [
  {
   "cell_type": "markdown",
   "metadata": {
    "id": "ncRX65JllPC1"
   },
   "source": [
    "# C-Dice Workshop: AI-Machine Learning Basics\n",
    "# Date: 25/01/2023 "
   ]
  },
  {
   "cell_type": "markdown",
   "metadata": {
    "id": "fWfi9L1Du3vk"
   },
   "source": [
    "## Classification"
   ]
  },
  {
   "cell_type": "markdown",
   "metadata": {
    "id": "ySSCOAAWzeW3"
   },
   "source": [
    "### Dataset in Numpy Array "
   ]
  },
  {
   "cell_type": "code",
   "execution_count": 2,
   "metadata": {},
   "outputs": [
    {
     "name": "stdout",
     "output_type": "stream",
     "text": [
      "Collecting scikit-learn\n",
      "  Using cached scikit_learn-1.2.1-cp39-cp39-win_amd64.whl (8.4 MB)\n",
      "Collecting threadpoolctl>=2.0.0\n",
      "  Using cached threadpoolctl-3.1.0-py3-none-any.whl (14 kB)\n",
      "Collecting numpy>=1.17.3\n",
      "  Downloading numpy-1.24.1-cp39-cp39-win_amd64.whl (14.9 MB)\n",
      "Collecting scipy>=1.3.2\n",
      "  Downloading scipy-1.10.0-cp39-cp39-win_amd64.whl (42.5 MB)\n",
      "Collecting joblib>=1.1.1\n",
      "  Using cached joblib-1.2.0-py3-none-any.whl (297 kB)\n",
      "Installing collected packages: numpy, threadpoolctl, scipy, joblib, scikit-learn\n",
      "Successfully installed joblib-1.2.0 numpy-1.24.1 scikit-learn-1.2.1 scipy-1.10.0 threadpoolctl-3.1.0\n",
      "Note: you may need to restart the kernel to use updated packages.\n"
     ]
    }
   ],
   "source": [
    "pip install --upgrade scikit-learn"
   ]
  },
  {
   "cell_type": "code",
   "execution_count": 6,
   "metadata": {},
   "outputs": [
    {
     "name": "stdout",
     "output_type": "stream",
     "text": [
      "Collecting matplotlib\n",
      "  Downloading matplotlib-3.6.3-cp39-cp39-win_amd64.whl (7.2 MB)\n",
      "Collecting fonttools>=4.22.0\n",
      "  Downloading fonttools-4.38.0-py3-none-any.whl (965 kB)\n",
      "Collecting kiwisolver>=1.0.1\n",
      "  Downloading kiwisolver-1.4.4-cp39-cp39-win_amd64.whl (55 kB)\n",
      "Requirement already satisfied: numpy>=1.19 in c:\\users\\hafidz\\anaconda3\\envs\\rlanguange\\lib\\site-packages (from matplotlib) (1.24.1)\n",
      "Requirement already satisfied: python-dateutil>=2.7 in c:\\users\\hafidz\\anaconda3\\envs\\rlanguange\\lib\\site-packages (from matplotlib) (2.8.2)\n",
      "Requirement already satisfied: pyparsing>=2.2.1 in c:\\users\\hafidz\\anaconda3\\envs\\rlanguange\\lib\\site-packages (from matplotlib) (3.0.4)\n",
      "Requirement already satisfied: packaging>=20.0 in c:\\users\\hafidz\\anaconda3\\envs\\rlanguange\\lib\\site-packages (from matplotlib) (21.3)\n",
      "Collecting contourpy>=1.0.1\n",
      "  Downloading contourpy-1.0.7-cp39-cp39-win_amd64.whl (160 kB)\n",
      "Collecting pillow>=6.2.0\n",
      "  Downloading Pillow-9.4.0-cp39-cp39-win_amd64.whl (2.5 MB)\n",
      "Collecting cycler>=0.10\n",
      "  Using cached cycler-0.11.0-py3-none-any.whl (6.4 kB)\n",
      "Requirement already satisfied: six>=1.5 in c:\\users\\hafidz\\anaconda3\\envs\\rlanguange\\lib\\site-packages (from python-dateutil>=2.7->matplotlib) (1.16.0)\n",
      "Installing collected packages: pillow, kiwisolver, fonttools, cycler, contourpy, matplotlib\n",
      "Successfully installed contourpy-1.0.7 cycler-0.11.0 fonttools-4.38.0 kiwisolver-1.4.4 matplotlib-3.6.3 pillow-9.4.0\n",
      "Note: you may need to restart the kernel to use updated packages.\n"
     ]
    }
   ],
   "source": [
    "pip install matplotlib"
   ]
  },
  {
   "cell_type": "code",
   "execution_count": 9,
   "metadata": {},
   "outputs": [
    {
     "name": "stdout",
     "output_type": "stream",
     "text": [
      "Collecting pandas\n",
      "  Downloading pandas-1.5.3-cp39-cp39-win_amd64.whl (10.9 MB)\n",
      "Collecting pytz>=2020.1\n",
      "  Downloading pytz-2022.7.1-py2.py3-none-any.whl (499 kB)\n",
      "Requirement already satisfied: python-dateutil>=2.8.1 in c:\\users\\hafidz\\anaconda3\\envs\\rlanguange\\lib\\site-packages (from pandas) (2.8.2)\n",
      "Requirement already satisfied: numpy>=1.20.3 in c:\\users\\hafidz\\anaconda3\\envs\\rlanguange\\lib\\site-packages (from pandas) (1.24.1)\n",
      "Requirement already satisfied: six>=1.5 in c:\\users\\hafidz\\anaconda3\\envs\\rlanguange\\lib\\site-packages (from python-dateutil>=2.8.1->pandas) (1.16.0)\n",
      "Installing collected packages: pytz, pandas\n",
      "Successfully installed pandas-1.5.3 pytz-2022.7.1\n",
      "Note: you may need to restart the kernel to use updated packages.\n"
     ]
    }
   ],
   "source": [
    "pip install pandas"
   ]
  },
  {
   "cell_type": "code",
   "execution_count": 3,
   "metadata": {
    "colab": {
     "base_uri": "https://localhost:8080/",
     "height": 34
    },
    "id": "ZJLZK_ho8gJt",
    "outputId": "74ec8eb6-da8e-4050-832e-23bcc2e324b9"
   },
   "outputs": [
    {
     "data": {
      "text/plain": [
       "array([0])"
      ]
     },
     "metadata": {},
     "output_type": "display_data"
    }
   ],
   "source": [
    "#Classification example \n",
    "\n",
    "from sklearn.linear_model \\\n",
    "import LogisticRegression as LRClassifier \n",
    "import numpy as np\n",
    "\n",
    "# Data stored in a numpy array \n",
    "dataset = np.array([[1, 1, 0], \n",
    "                    [1, 3, 0], \n",
    "                    [2, 2, 1], \n",
    "                    [2, 3, 1]])\n",
    "X=dataset[:,0:2]\n",
    "y=dataset[:,2]\n",
    "\n",
    "clf = LRClassifier()\n",
    "\n",
    "# Fit the data\n",
    "clf.fit(X, y) #train the model with X\n",
    "\n",
    "# Predict the class of new data\n",
    "newData=np.array([[1, 2]])\n",
    "p_y=clf.predict(newData)\n",
    "display(p_y)"
   ]
  },
  {
   "cell_type": "code",
   "execution_count": 7,
   "metadata": {
    "colab": {
     "base_uri": "https://localhost:8080/",
     "height": 285
    },
    "id": "XusPdVmw5Iaw",
    "outputId": "13dcabcc-f607-41ca-af4e-65e692b5631d"
   },
   "outputs": [
    {
     "data": {
      "image/png": "[encoded data removed]",
      "text/plain": [
       "<Figure size 432x288 with 1 Axes>"
      ]
     },
     "metadata": {
      "needs_background": "light"
     },
     "output_type": "display_data"
    }
   ],
   "source": [
    "#Continue \n",
    "# Plotting data and classification with decision boundary of the linear model.\n",
    "# The code below is not important. \n",
    "# We focus on the output \n",
    "\n",
    "import matplotlib\n",
    "import matplotlib.pyplot as plt\n",
    "\n",
    "######getting ready ############\n",
    "# Retrieve the model parameters.\n",
    "b = clf.intercept_[0]\n",
    "w1, w2 = clf.coef_.T\n",
    "# Calculate the intercept and gradient of the decision boundary.\n",
    "c = -b/w2\n",
    "m = -w1/w2\n",
    "#range of the figure \n",
    "xmin, xmax = 0, 3\n",
    "ymin, ymax = 0, 4\n",
    "\n",
    "xd = np.array([xmin, xmax])\n",
    "yd = m*xd + c\n",
    "\n",
    "#####Plotting data########\n",
    "# draw the line \n",
    "plt.plot(xd, yd,color=\"blue\", linewidth=1)\n",
    "# plot the data points \n",
    "plt.scatter(X[:,0],X[:,1],c=y, edgecolor=\"k\")\n",
    "\n",
    "#####Decoration############# \n",
    "\n",
    "# # shade the background \n",
    "plt.fill_between(xd, yd, ymin, color='tab:blue', alpha=0.2)\n",
    "plt.fill_between(xd, yd, ymax, color='tab:orange', alpha=0.2)\n",
    "\n",
    "# labels \n",
    "plt.xlim(xmin, xmax)\n",
    "plt.ylim(ymin, ymax)\n",
    "plt.ylabel(r'$x_2$')\n",
    "plt.xlabel(r'$x_1$')\n",
    "\n",
    "plt.show()"
   ]
  },
  {
   "cell_type": "markdown",
   "metadata": {
    "id": "r4ci7F9wzkCA"
   },
   "source": [
    "### Dataset in Pandas DataFrame  "
   ]
  },
  {
   "cell_type": "code",
   "execution_count": 10,
   "metadata": {
    "colab": {
     "base_uri": "https://localhost:8080/",
     "height": 98
    },
    "id": "y2zEZ3wBiebn",
    "outputId": "ad0464e8-0bb3-4222-83db-55c09a2fa319",
    "scrolled": true
   },
   "outputs": [
    {
     "data": {
      "text/html": [
       "<div>\n",
       "<style scoped>\n",
       "    .dataframe tbody tr th:only-of-type {\n",
       "        vertical-align: middle;\n",
       "    }\n",
       "\n",
       "    .dataframe tbody tr th {\n",
       "        vertical-align: top;\n",
       "    }\n",
       "\n",
       "    .dataframe thead th {\n",
       "        text-align: right;\n",
       "    }\n",
       "</style>\n",
       "<table border=\"1\" class=\"dataframe\">\n",
       "  <thead>\n",
       "    <tr style=\"text-align: right;\">\n",
       "      <th></th>\n",
       "      <th>x1</th>\n",
       "      <th>x2</th>\n",
       "    </tr>\n",
       "  </thead>\n",
       "  <tbody>\n",
       "    <tr>\n",
       "      <th>0</th>\n",
       "      <td>1</td>\n",
       "      <td>2</td>\n",
       "    </tr>\n",
       "  </tbody>\n",
       "</table>\n",
       "</div>"
      ],
      "text/plain": [
       "   x1  x2\n",
       "0   1   2"
      ]
     },
     "metadata": {},
     "output_type": "display_data"
    },
    {
     "data": {
      "text/plain": [
       "array([0])"
      ]
     },
     "metadata": {},
     "output_type": "display_data"
    }
   ],
   "source": [
    "#classification example\n",
    "\n",
    "from sklearn.linear_model import LogisticRegression\n",
    "import numpy as np\n",
    "import pandas as pd\n",
    "\n",
    "data =np.array([[1, 1,0], \n",
    "              [1, 3, 0], \n",
    "              [2, 2, 1], \n",
    "              [2, 3, 1]])\n",
    "\n",
    "df=pd.DataFrame(data,columns=[\"x1\",\"x2\",\"y\"])\n",
    "\n",
    "X=df[[\"x1\",\"x2\"]]\n",
    "\n",
    "y=df[\"y\"] \n",
    "\n",
    "#create the model \n",
    "clf = LogisticRegression()\n",
    "\n",
    "# Fit the data\n",
    "clf.fit(X, y)\n",
    "\n",
    "# predict the class of new data\n",
    "newData=pd.DataFrame([[1,2]],columns=[\"x1\",\"x2\"])\n",
    "display(newData)\n",
    "p_y=clf.predict(newData)\n",
    "\n",
    "display(p_y)"
   ]
  },
  {
   "cell_type": "markdown",
   "metadata": {
    "id": "Zcc8-JzTzG5l"
   },
   "source": [
    "## Regression "
   ]
  },
  {
   "cell_type": "markdown",
   "metadata": {
    "id": "1nntZIsfzTPN"
   },
   "source": [
    "### Dataset in Numpy Array "
   ]
  },
  {
   "cell_type": "code",
   "execution_count": 11,
   "metadata": {
    "colab": {
     "base_uri": "https://localhost:8080/"
    },
    "id": "xNIiqxqb1TKG",
    "outputId": "63c3b06d-842f-4457-93f8-0881dc4658cd"
   },
   "outputs": [
    {
     "data": {
      "text/plain": [
       "array([8.34])"
      ]
     },
     "execution_count": 11,
     "metadata": {},
     "output_type": "execute_result"
    }
   ],
   "source": [
    "#Regression Example  \n",
    "from sklearn.linear_model import LinearRegression\n",
    "import numpy as np\n",
    "##data \n",
    "X = np.array([[1], \n",
    "              [2], \n",
    "              [3], \n",
    "              [4]])\n",
    "\n",
    "y = np.array([6, \n",
    "              8, \n",
    "              9, \n",
    "              11])\n",
    "\n",
    "# train a linear regressor\n",
    "reg = LinearRegression()\n",
    "reg.fit(X, y)\n",
    "\n",
    "# predict a new sample\n",
    "newData =np.array([[2.4]])\n",
    "reg.predict(newData)"
   ]
  },
  {
   "cell_type": "code",
   "execution_count": 12,
   "metadata": {
    "colab": {
     "base_uri": "https://localhost:8080/",
     "height": 0
    },
    "id": "LYqHhJG01qHt",
    "outputId": "1c19ab6e-7b18-4a65-d084-87228859f200"
   },
   "outputs": [
    {
     "data": {
      "image/png": "[encoded data removed]",
      "text/plain": [
       "<Figure size 432x288 with 1 Axes>"
      ]
     },
     "metadata": {
      "needs_background": "light"
     },
     "output_type": "display_data"
    }
   ],
   "source": [
    "# continue\n",
    "import matplotlib.pyplot as plt\n",
    "plt.scatter(X, y, color=\"black\")\n",
    "predicted_y=reg.predict(np.array(X))\n",
    "plt.ylabel(\"y\")\n",
    "plt.xlabel(\"x\")\n",
    "plt.plot(X,predicted_y, color=\"blue\", linewidth=1)\n",
    "plt.show()"
   ]
  },
  {
   "cell_type": "markdown",
   "metadata": {
    "id": "1DgDOjBRz7dz"
   },
   "source": [
    "### Dataset in Pandas DataFrame"
   ]
  },
  {
   "cell_type": "code",
   "execution_count": 13,
   "metadata": {
    "colab": {
     "base_uri": "https://localhost:8080/"
    },
    "id": "WWG94_OM1Pez",
    "outputId": "7deb8be4-8664-49c2-b5da-ed839676b06e"
   },
   "outputs": [
    {
     "data": {
      "text/plain": [
       "array([[9.5]])"
      ]
     },
     "execution_count": 13,
     "metadata": {},
     "output_type": "execute_result"
    }
   ],
   "source": [
    "# simple regression example \n",
    "from sklearn.linear_model import LinearRegression\n",
    "import pandas as pd\n",
    "import numpy as np\n",
    "##data \n",
    "data = np.array([[1,6], \n",
    "                [2,8], \n",
    "                [2,9], \n",
    "                [3,11]])\n",
    "\n",
    "df=pd.DataFrame(data,columns=[\"X\",\"y\"])\n",
    "\n",
    "X=df[[\"X\"]]\n",
    "y=df[[\"y\"]]\n",
    "\n",
    "# train a linear regressor\n",
    "reg = LinearRegression().fit(X, y)\n",
    "\n",
    "# predict \n",
    "newData=pd.DataFrame([2.4],columns=[\"X\"])\n",
    "reg.predict(newData)"
   ]
  },
  {
   "cell_type": "markdown",
   "metadata": {
    "id": "UurKo_xTGpM_"
   },
   "source": [
    "# Data Source"
   ]
  },
  {
   "cell_type": "markdown",
   "metadata": {
    "id": "74ZCLcfYo0tp"
   },
   "source": [
    "##  sklearn datasets"
   ]
  },
  {
   "cell_type": "code",
   "execution_count": 15,
   "metadata": {
    "colab": {
     "base_uri": "https://localhost:8080/"
    },
    "id": "XZGjjhXYpKk5",
    "outputId": "e4fbdfc8-c09b-4d23-8fc1-7c583779f78c"
   },
   "outputs": [
    {
     "name": "stdout",
     "output_type": "stream",
     "text": [
      "['setosa']\n"
     ]
    }
   ],
   "source": [
    "# Sklearn has several toy datasets \n",
    "# See below for the details of the datasets.  \n",
    "# https://scikit-learn.org/stable/datasets/toy_dataset.html\n",
    "from sklearn.datasets import load_iris # one of the datasets\n",
    "from sklearn.linear_model import LogisticRegression\n",
    "\n",
    "#getting data \n",
    "irisdata=load_iris()  \n",
    "\n",
    "X=irisdata.data\n",
    "y=irisdata.target \n",
    "\n",
    "# print (irisdata.feature_names)\n",
    "# print (irisdata.target_names)\n",
    "\n",
    "# Fit the data\n",
    "clf = LogisticRegression()\n",
    "clf.fit(X[:,[0,1]], y) #using only two columns of the table\n",
    "\n",
    "# predict  the class of new data\n",
    "newData=[[1,1]]\n",
    "\n",
    "flowerTypeNo=clf.predict(newData)\n",
    "\n",
    "print (irisdata.target_names[flowerTypeNo])\n"
   ]
  },
  {
   "cell_type": "markdown",
   "metadata": {
    "id": "wLu8_WJiHSuX"
   },
   "source": [
    "## Data files from URL address"
   ]
  },
  {
   "cell_type": "code",
   "execution_count": 16,
   "metadata": {
    "colab": {
     "base_uri": "https://localhost:8080/"
    },
    "id": "wLHo2GjkGose",
    "outputId": "309fd33b-ce63-482f-c578-96568760dab5"
   },
   "outputs": [
    {
     "data": {
      "text/plain": [
       "array([3073363.21746833])"
      ]
     },
     "execution_count": 16,
     "metadata": {},
     "output_type": "execute_result"
    }
   ],
   "source": [
    "#regression example \n",
    "from sklearn.linear_model import LinearRegression\n",
    "import pandas as pd\n",
    "\n",
    "movie_data_url=\"https://raw.githubusercontent.com/yash91sharma/IMDB-Movie-Dataset-Analysis/master/movie_metadata.csv\"\n",
    "df=pd.read_csv(movie_data_url)\n",
    "# print (df.shape)\n",
    "# print (df.columns)\n",
    "#learning models don't like null values. it needs to be handled.\n",
    "df.dropna(inplace=True) # delete the rows which contain null values.\n",
    "\n",
    "X=df[[\"imdb_score\"]]\n",
    "y=df[\"gross\"]\n",
    "\n",
    "# train a linear regressor\n",
    "reg = LinearRegression().fit(X, y)\n",
    "# predict a new sample\n",
    "newData=pd.DataFrame([3],columns=[\"imdb_score\"])\n",
    "#print(newData)\n",
    "reg.predict(newData)\n"
   ]
  },
  {
   "cell_type": "code",
   "execution_count": 9,
   "metadata": {
    "colab": {
     "base_uri": "https://localhost:8080/",
     "height": 276
    },
    "id": "UwF2g3eDM6Mt",
    "outputId": "cb0f3259-94c4-4535-d1b4-9a37cfb931b9",
    "scrolled": true
   },
   "outputs": [
    {
     "data": {
      "image/png": "[encoded data removed]",
      "text/plain": [
       "<Figure size 432x288 with 1 Axes>"
      ]
     },
     "metadata": {
      "needs_background": "light"
     },
     "output_type": "display_data"
    }
   ],
   "source": [
    "# visualise the prediction\n",
    "import matplotlib.pyplot as plt\n",
    "plt.scatter(X[\"imdb_score\"], y, color=\"red\",s=1)\n",
    "predicted_y=reg.predict(X)\n",
    "plt.plot(X[\"imdb_score\"],predicted_y)\n",
    "plt.show()"
   ]
  },
  {
   "cell_type": "markdown",
   "metadata": {
    "id": "T_vkVgqZDMUH"
   },
   "source": [
    "## Basic Model Evaluation\n"
   ]
  },
  {
   "cell_type": "markdown",
   "metadata": {
    "id": "CwVFzqRGDMUH"
   },
   "source": [
    "### Calculation of Model Accuracy"
   ]
  },
  {
   "cell_type": "code",
   "execution_count": 10,
   "metadata": {
    "colab": {
     "base_uri": "https://localhost:8080/"
    },
    "id": "mP45KeEpDMUH",
    "outputId": "3a6d1ff0-0c71-4bb3-9dda-430b61b0a8ab",
    "scrolled": true
   },
   "outputs": [
    {
     "name": "stdout",
     "output_type": "stream",
     "text": [
      "0.5\n"
     ]
    }
   ],
   "source": [
    "#ex1: very simple example \n",
    "from sklearn.metrics import accuracy_score \n",
    "y = [0, 1, 2, 3] \n",
    "y_pred = [0, 2, 1, 3] # 2 out of 4 prediction are correct. The accuracy is 2/4  \n",
    "print(accuracy_score(y, y_pred))"
   ]
  },
  {
   "cell_type": "code",
   "execution_count": 17,
   "metadata": {
    "colab": {
     "base_uri": "https://localhost:8080/"
    },
    "id": "mGQuDARuDMUH",
    "outputId": "f66637fa-432b-4361-e19e-45251fac091a"
   },
   "outputs": [
    {
     "name": "stdout",
     "output_type": "stream",
     "text": [
      "0.82\n"
     ]
    }
   ],
   "source": [
    "#Ex2: Use of model accuracy\n",
    "from sklearn.linear_model import LogisticRegression as LinearClassifier\n",
    "from sklearn.datasets import load_iris\n",
    "from sklearn.metrics import accuracy_score \n",
    "\n",
    "#load iris  data\n",
    "X,y=load_iris(return_X_y=True) \n",
    "\n",
    "#Fit the data to a logistic regression model.\n",
    "\n",
    "# let's use only two columns of the datasets \n",
    "clf = LinearClassifier()\n",
    "clf.fit(X[:,[0,1]], y)\n",
    "\n",
    "# display the accuracy of the prediction \n",
    "\n",
    "y_pred=clf.predict(X[:,[0,1]])\n",
    "print(accuracy_score(y, y_pred))\n",
    "# .score will give the same result\n",
    "#print (clf.score(X[:,[0,1]], y))"
   ]
  },
  {
   "cell_type": "markdown",
   "metadata": {
    "id": "bcOgID51DMUI"
   },
   "source": [
    "### Simulate use of the model"
   ]
  },
  {
   "cell_type": "code",
   "execution_count": 18,
   "metadata": {
    "colab": {
     "base_uri": "https://localhost:8080/"
    },
    "id": "gc7XbWxKDMUI",
    "outputId": "9f0cbc05-e576-4150-ce1b-51c0881a426e"
   },
   "outputs": [
    {
     "name": "stdout",
     "output_type": "stream",
     "text": [
      "Accurancy of\n",
      "All the data: 0.8266666666666667\n",
      "Train dataset: 0.8285714285714286\n",
      "Test dataset: 0.8222222222222222\n"
     ]
    }
   ],
   "source": [
    "#Ex3: Use of train and test datasets   \n",
    "from sklearn.model_selection import train_test_split\n",
    "from sklearn.linear_model import LogisticRegression as LinearClassifier\n",
    "from sklearn.datasets import load_iris\n",
    "\n",
    "X,y=load_iris(return_X_y=True) \n",
    "\n",
    "# Split the data to create train and test datasets\n",
    "X_train,X_test,y_train,y_test=train_test_split(\n",
    "     X,y,\n",
    "     test_size=0.3,\n",
    "     random_state=0\n",
    "     )\n",
    "\n",
    "#Fit the data \n",
    "clf = LinearClassifier()\n",
    "clf.fit(X_train[:,[0,1]], y_train)\n",
    "\n",
    "# display the accuracy of the prediction \n",
    "print(\"Accurancy of\")\n",
    "## use all the dataset to develop a model \n",
    "print (\"All the data:\",clf.score(X[:,[0,1]], y))\n",
    "## use 70% of the datasets \n",
    "print (\"Train dataset:\",clf.score(X_train[:,[0,1]], y_train))\n",
    "## use 30% of the datasets \n",
    "print (\"Test dataset:\",clf.score(X_test[:,[0,1]], y_test))"
   ]
  },
  {
   "cell_type": "markdown",
   "metadata": {
    "id": "9DsjFg2tDMUI"
   },
   "source": [
    "### Model Selection "
   ]
  },
  {
   "cell_type": "code",
   "execution_count": 13,
   "metadata": {
    "colab": {
     "base_uri": "https://localhost:8080/"
    },
    "id": "M6jFEwzJDMUI",
    "outputId": "4f5f0ded-6dcb-4f06-8671-e854b4840eee"
   },
   "outputs": [
    {
     "name": "stdout",
     "output_type": "stream",
     "text": [
      "0.9166666666666666\n",
      "0.9666666666666667\n"
     ]
    },
    {
     "data": {
      "text/plain": [
       "array([1])"
      ]
     },
     "execution_count": 13,
     "metadata": {},
     "output_type": "execute_result"
    }
   ],
   "source": [
    "#svm vs lr with train and test datasets\n",
    "from sklearn.linear_model import LogisticRegression as LinearClassifier\n",
    "from sklearn.svm import SVC \n",
    "from sklearn.datasets import load_iris\n",
    "\n",
    "\n",
    "X,y=load_iris(return_X_y=True) \n",
    "X_train,X_test,y_train,y_test=train_test_split(\n",
    "     X,y,\n",
    "     test_size=0.4, \n",
    "     random_state=0\n",
    "     )\n",
    "\n",
    "# Fit the data to a logistic regression model.\n",
    "l_Clf =LinearClassifier(max_iter=1000,C=10,penalty=\"l2\") \n",
    "l_Clf.fit(X_train, y_train)\n",
    "\n",
    "# Fit the data to a Support Vector Classification model.\n",
    "svmClf = SVC(kernel=\"linear\")\n",
    "svmClf.fit(X_train, y_train) \n",
    "\n",
    "# Display the accuracy \n",
    "print (l_Clf.score(X_test, y_test))\n",
    "print (svmClf.score(X_test, y_test))\n",
    "\n",
    "# Choose the best one and retrain model with all the data\n",
    "\n",
    "svmClf.fit(X, y)\n",
    "\n",
    "# predict  the class of a new sample\n",
    "newData=np.array([[1, 1,2,2]])\n",
    "svmClf.predict(newData)"
   ]
  },
  {
   "cell_type": "markdown",
   "metadata": {
    "id": "Vl4IOl68HemZ"
   },
   "source": [
    "# Important links "
   ]
  },
  {
   "cell_type": "markdown",
   "metadata": {
    "id": "Gf6hdl0XFuoL"
   },
   "source": [
    "\n",
    "\n",
    "### Learn ML \n",
    "- https://colab.research.google.com/\n",
    "\n",
    "- https://www.kaggle.com/\n",
    "\n",
    "### Deep understanding of ML \n",
    "- https://www.youtube.com/user/joshstarmer\n",
    "\n",
    "### Practicing your coding skills\n",
    "- https://www.hackerrank.com/\n",
    "- https://leetcode.com/\n",
    "\n",
    "### E-Books \n",
    "- https://www.oreilly.com/library/view/hands-on-machine-learning/9781491962282/\n",
    "- https://jakevdp.github.io/PythonDataScienceHandbook/\n",
    "- https://github.com/ageron/handson-ml3\n"
   ]
  }
 ],
 "metadata": {
  "colab": {
   "collapsed_sections": [
    "1nntZIsfzTPN",
    "1DgDOjBRz7dz"
   ],
   "provenance": []
  },
  "kernelspec": {
   "display_name": "Python 3 (ipykernel)",
   "language": "python",
   "name": "python3"
  },
  "language_info": {
   "codemirror_mode": {
    "name": "ipython",
    "version": 3
   },
   "file_extension": ".py",
   "mimetype": "text/x-python",
   "name": "python",
   "nbconvert_exporter": "python",
   "pygments_lexer": "ipython3",
   "version": "3.9.7"
  }
 },
 "nbformat": 4,
 "nbformat_minor": 1
}
